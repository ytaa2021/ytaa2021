{
  "nbformat": 4,
  "nbformat_minor": 0,
  "metadata": {
    "colab": {
      "provenance": [],
      "include_colab_link": true
    },
    "kernelspec": {
      "name": "python3",
      "display_name": "Python 3"
    },
    "language_info": {
      "name": "python"
    }
  },
  "cells": [
    {
      "cell_type": "markdown",
      "metadata": {
        "id": "view-in-github",
        "colab_type": "text"
      },
      "source": [
        "<a href=\"https://colab.research.google.com/github/ytaa2021/ytaa2021/blob/main/Swedish_Lighthouses_Challenge_Yotam.ipynb\" target=\"_parent\"><img src=\"https://colab.research.google.com/assets/colab-badge.svg\" alt=\"Open In Colab\"/></a>"
      ]
    },
    {
      "cell_type": "markdown",
      "metadata": {
        "id": "IlQWxVjP4EUq"
      },
      "source": [
        "# Swedish Lighthouses Challenge\n"
      ]
    },
    {
      "cell_type": "markdown",
      "metadata": {
        "id": "O84gQ87s4IZi"
      },
      "source": [
        "Skydio is scoping out a project to aid the search and rescue operations of the Swedish Coast Guard. Their goal is to establish a network of docked drones along the coastline that provide a rapid response to emergency transmissions.\n",
        "\n",
        "(The Skydio Dock is a cloud-connected, weatherproof home base and charging station that enables our drones to fly without a pilot on-scene.)\n",
        "\n",
        "The customer is interested in establishing coverage from their main office in Stockholm east to the island of Vindö and then southwest to Torö.\n",
        "\n",
        "They have permission to build a dock into any lighthouse in the region. They are interested in building a route such that a drone can hop from dock to dock from Stockholm to Torö, so that they can recover their fleet and swap drones without sending humans to the lighthouses.\n",
        "\n",
        "**Submission** - Make a copy of this notebook and fill out the code and writeup. Feel free to download and run locally if helpful. Share the completed Google Colab link with us by setting the permission to *Anyone with the link can view*.\n",
        "\n",
        "**Guidelines** - This challenge tests the ability to write quality code, interact with APIs, visualize data, and employ algorithms to solve problems. We score submissions by the clarity of the code, visuals, and written documentation. We do not score by the amount of time spent, so go as deep as you like, or if you are short on time then take a simpler approach to Part 2 and 3.\n",
        "\n",
        "<img width=\"500px\" src=\"https://i.imgur.com/5H88NQ3.png\"/>"
      ]
    },
    {
      "cell_type": "markdown",
      "metadata": {
        "id": "oNKo62Ap43qC"
      },
      "source": [
        "# Part 1: Find all of the lighthouses\n",
        "\n",
        "Use [OpenStreetMap](https://en.wikipedia.org/wiki/OpenStreetMap) to find known lighthouses in the region and get that data into your notebook. OSM provides APIs to query their geographic database by structure type. Plot the lighthouses on a map using [pydeck](https://deckgl.readthedocs.io/en/latest/).\n",
        "\n",
        "Note that you are free to install python packages in colab: `!pip install pydeck`"
      ]
    },
    {
      "cell_type": "code",
      "metadata": {
        "id": "1uWF6vLrNJk7"
      },
      "source": [
        "# your code here\n",
        "\n",
        "# pydeck plot of lighthouses in the region"
      ],
      "execution_count": null,
      "outputs": []
    },
    {
      "cell_type": "markdown",
      "metadata": {
        "id": "NTRUj0Mf50F6"
      },
      "source": [
        "# Part 2: Choose where to build docks\n",
        "\n",
        "Suggest a minimal set of lighthouses at which to build a dock that would allow a drone to traverse from Stockholm to Torö, if each drone has a usable battery life of 30 minutes and travels at a ground speed of 12 meters per second. Plot the route, assuming approximate endpoints at Stockholm and Torö. Also print the total route distance.\n",
        "\n",
        "It's okay to make reasonable assumptions here and state your thinking. You can go as straightforward or complex as you like."
      ]
    },
    {
      "cell_type": "code",
      "metadata": {
        "id": "z-jXbuAc525M"
      },
      "source": [
        "# your code here\n",
        "\n",
        "# print the suggested set of lighthouses and the total distance\n",
        "\n",
        "# plot the route"
      ],
      "execution_count": null,
      "outputs": []
    },
    {
      "cell_type": "markdown",
      "metadata": {
        "id": "0yWe_8Vu54CI"
      },
      "source": [
        "# Part 3: Get drones from Stockholm to the docks!\n",
        "\n",
        "Let's say we installed empty docks into each of the selected lighthouses. How long would it take to fill every dock if we are dispatching the drones from Stockholm, and a drone takes 45 minutes to fully charge its battery in the dock?\n",
        "\n",
        "You may choose to write code here at any level of depth for this problem, or you can provide a ballpark estimate with a few written sentences."
      ]
    },
    {
      "cell_type": "code",
      "metadata": {
        "id": "Ey78tAGW55t-"
      },
      "source": [
        "# your code or written description here\n",
        "\n",
        "# your estimate of the duration required to fill the docks"
      ],
      "execution_count": null,
      "outputs": []
    },
    {
      "cell_type": "markdown",
      "metadata": {
        "id": "OR6eCBGQ9eDo"
      },
      "source": [
        "# Discussion\n",
        "\n",
        "Describe roughly the amount of time you spent on this challenge and any notes you would like to share about your approach."
      ]
    },
    {
      "cell_type": "markdown",
      "metadata": {
        "id": "ACF8lAFO9h-A"
      },
      "source": [
        "< notes here >"
      ]
    },
    {
      "cell_type": "markdown",
      "metadata": {
        "id": "YxB_pwgt56kY"
      },
      "source": [
        "# Stretch goal (optional)\n",
        "\n",
        "Analyze and visualize any other interesting aspect of this proposal. What is some problem we might run into or information the customer could want to know about using this network of docked drones for search and rescue?"
      ]
    },
    {
      "cell_type": "code",
      "metadata": {
        "id": "KdxnrNcH575l"
      },
      "source": [],
      "execution_count": null,
      "outputs": []
    }
  ]
}